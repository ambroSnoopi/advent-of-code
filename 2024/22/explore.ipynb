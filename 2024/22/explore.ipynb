{
 "cells": [
  {
   "cell_type": "code",
   "execution_count": 1,
   "id": "8519c983-17e8-4e76-a115-85b78ba2151e",
   "metadata": {},
   "outputs": [
    {
     "name": "stderr",
     "output_type": "stream",
     "text": [
      "Computing sequences: 100%|██████████| 1/1 [00:00<00:00, 764.41secret/s]\n",
      "Computing sequences: 100%|██████████| 4/4 [00:00<00:00, 1157.77secret/s]\n",
      "Computing sequences: 100%|██████████| 1729/1729 [00:01<00:00, 1532.54secret/s]"
     ]
    },
    {
     "name": "stdout",
     "output_type": "stream",
     "text": [
      "Quest Checksum: 14180628689\n"
     ]
    },
    {
     "name": "stderr",
     "output_type": "stream",
     "text": [
      "\n"
     ]
    },
    {
     "data": {
      "text/plain": [
       "'\\nexpected = 0123\\nassert expected==actual, f\"Part 1 failed!\\n  Expected: {expected}\\n  Actual: {actual}\"\\n\\np2 = quest.check_p2()\\nprint(\"Quest Checksum Part 2:\", p2)\\n'"
      ]
     },
     "execution_count": 1,
     "metadata": {},
     "output_type": "execute_result"
    }
   ],
   "source": [
    "import puzzle\n",
    "\n",
    "test0 = puzzle.load_puzzle('input/test0.txt')\n",
    "test0.do()\n",
    "expected = [\n",
    "    15887950\n",
    "   , 16495136\n",
    "   , 527345\n",
    "   , 704524\n",
    "   , 1553684\n",
    "   , 12683156\n",
    "   , 11100544\n",
    "   , 12249484\n",
    "   , 7753432\n",
    "   , 5908254\n",
    "]\n",
    "actual = [seq[0] for seq in test0.sequences[123][:10]]\n",
    "assert expected==actual, f\"Test2 failed!\\n  Expected: {expected}\\n  Actual: {actual}\"\n",
    "\n",
    "\n",
    "test = puzzle.load_puzzle('input/test.txt')\n",
    "test.do()\n",
    "expected = 37327623\n",
    "actual = test.checksum()\n",
    "assert expected==actual, f\"Test failed!\\n  Expected: {expected}\\n  Actual: {actual}\"\n",
    "\"\"\"\n",
    "test2 = puzzle.load_puzzle('input/test.txt')\n",
    "test2.do()\n",
    "expected = 0123\n",
    "actual = test2.checksum()\n",
    "assert expected==actual, f\"Test2 failed!\\n  Expected: {expected}\\n  Actual: {actual}\"\n",
    "\n",
    "#or\n",
    "\n",
    "expected = 01234\n",
    "actual = test.check_p2()\n",
    "assert expected==actual, f\"Test2 failed!\\n  Expected: {expected}\\n  Actual: {actual}\"\n",
    "\"\"\"\n",
    "quest = puzzle.load_puzzle('input/quest.txt')\n",
    "quest.do()\n",
    "actual = quest.checksum()\n",
    "print(\"Quest Checksum:\", actual)\n",
    "\"\"\"\n",
    "expected = 0123\n",
    "assert expected==actual, f\"Part 1 failed!\\n  Expected: {expected}\\n  Actual: {actual}\"\n",
    "\n",
    "p2 = quest.check_p2()\n",
    "print(\"Quest Checksum Part 2:\", p2)\n",
    "\"\"\""
   ]
  },
  {
   "cell_type": "code",
   "execution_count": 2,
   "metadata": {},
   "outputs": [],
   "source": [
    "import pandas as pd"
   ]
  },
  {
   "cell_type": "code",
   "execution_count": 4,
   "metadata": {},
   "outputs": [
    {
     "data": {
      "text/html": [
       "<div>\n",
       "<style scoped>\n",
       "    .dataframe tbody tr th:only-of-type {\n",
       "        vertical-align: middle;\n",
       "    }\n",
       "\n",
       "    .dataframe tbody tr th {\n",
       "        vertical-align: top;\n",
       "    }\n",
       "\n",
       "    .dataframe thead th {\n",
       "        text-align: right;\n",
       "    }\n",
       "</style>\n",
       "<table border=\"1\" class=\"dataframe\">\n",
       "  <thead>\n",
       "    <tr style=\"text-align: right;\">\n",
       "      <th></th>\n",
       "      <th>secret</th>\n",
       "      <th>price</th>\n",
       "      <th>change</th>\n",
       "    </tr>\n",
       "  </thead>\n",
       "  <tbody>\n",
       "    <tr>\n",
       "      <th>0</th>\n",
       "      <td>137283</td>\n",
       "      <td>3</td>\n",
       "      <td>2</td>\n",
       "    </tr>\n",
       "    <tr>\n",
       "      <th>1</th>\n",
       "      <td>12980423</td>\n",
       "      <td>3</td>\n",
       "      <td>0</td>\n",
       "    </tr>\n",
       "    <tr>\n",
       "      <th>2</th>\n",
       "      <td>12601359</td>\n",
       "      <td>9</td>\n",
       "      <td>6</td>\n",
       "    </tr>\n",
       "    <tr>\n",
       "      <th>3</th>\n",
       "      <td>1593745</td>\n",
       "      <td>5</td>\n",
       "      <td>-4</td>\n",
       "    </tr>\n",
       "    <tr>\n",
       "      <th>4</th>\n",
       "      <td>11512959</td>\n",
       "      <td>9</td>\n",
       "      <td>4</td>\n",
       "    </tr>\n",
       "    <tr>\n",
       "      <th>...</th>\n",
       "      <td>...</td>\n",
       "      <td>...</td>\n",
       "      <td>...</td>\n",
       "    </tr>\n",
       "    <tr>\n",
       "      <th>1995</th>\n",
       "      <td>3374536</td>\n",
       "      <td>6</td>\n",
       "      <td>-2</td>\n",
       "    </tr>\n",
       "    <tr>\n",
       "      <th>1996</th>\n",
       "      <td>9887670</td>\n",
       "      <td>0</td>\n",
       "      <td>-6</td>\n",
       "    </tr>\n",
       "    <tr>\n",
       "      <th>1997</th>\n",
       "      <td>16581543</td>\n",
       "      <td>3</td>\n",
       "      <td>3</td>\n",
       "    </tr>\n",
       "    <tr>\n",
       "      <th>1998</th>\n",
       "      <td>9545012</td>\n",
       "      <td>2</td>\n",
       "      <td>-1</td>\n",
       "    </tr>\n",
       "    <tr>\n",
       "      <th>1999</th>\n",
       "      <td>8685429</td>\n",
       "      <td>9</td>\n",
       "      <td>7</td>\n",
       "    </tr>\n",
       "  </tbody>\n",
       "</table>\n",
       "<p>2000 rows × 3 columns</p>\n",
       "</div>"
      ],
      "text/plain": [
       "        secret  price  change\n",
       "0       137283      3       2\n",
       "1     12980423      3       0\n",
       "2     12601359      9       6\n",
       "3      1593745      5      -4\n",
       "4     11512959      9       4\n",
       "...        ...    ...     ...\n",
       "1995   3374536      6      -2\n",
       "1996   9887670      0      -6\n",
       "1997  16581543      3       3\n",
       "1998   9545012      2      -1\n",
       "1999   8685429      9       7\n",
       "\n",
       "[2000 rows x 3 columns]"
      ]
     },
     "execution_count": 4,
     "metadata": {},
     "output_type": "execute_result"
    }
   ],
   "source": [
    "df = pd.DataFrame(test.sequences[1], columns=[\"secret\", \"price\", \"change\"])\n",
    "df"
   ]
  },
  {
   "cell_type": "code",
   "execution_count": null,
   "metadata": {},
   "outputs": [],
   "source": []
  }
 ],
 "metadata": {
  "kernelspec": {
   "display_name": "AoC",
   "language": "python",
   "name": "python3"
  },
  "language_info": {
   "codemirror_mode": {
    "name": "ipython",
    "version": 3
   },
   "file_extension": ".py",
   "mimetype": "text/x-python",
   "name": "python",
   "nbconvert_exporter": "python",
   "pygments_lexer": "ipython3",
   "version": "3.11.10"
  }
 },
 "nbformat": 4,
 "nbformat_minor": 2
}
